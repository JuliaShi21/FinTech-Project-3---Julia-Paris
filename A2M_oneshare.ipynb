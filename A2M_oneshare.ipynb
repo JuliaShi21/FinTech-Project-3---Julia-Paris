{
 "cells": [
  {
   "cell_type": "code",
   "execution_count": 27,
   "id": "6eb87d13-2c0f-45ca-a772-acc7df344dfd",
   "metadata": {},
   "outputs": [],
   "source": [
    "#initial imports\n",
    "import pandas as pd\n",
    "from pathlib import Path"
   ]
  },
  {
   "cell_type": "code",
   "execution_count": 28,
   "id": "8ca6f3bf-5b26-4fe7-acfb-7ac9e0194719",
   "metadata": {},
   "outputs": [
    {
     "data": {
      "text/html": [
       "<div>\n",
       "<style scoped>\n",
       "    .dataframe tbody tr th:only-of-type {\n",
       "        vertical-align: middle;\n",
       "    }\n",
       "\n",
       "    .dataframe tbody tr th {\n",
       "        vertical-align: top;\n",
       "    }\n",
       "\n",
       "    .dataframe thead th {\n",
       "        text-align: right;\n",
       "    }\n",
       "</style>\n",
       "<table border=\"1\" class=\"dataframe\">\n",
       "  <thead>\n",
       "    <tr style=\"text-align: right;\">\n",
       "      <th></th>\n",
       "      <th>Code</th>\n",
       "      <th>Company</th>\n",
       "      <th>Date</th>\n",
       "      <th>Type</th>\n",
       "      <th>Quantity</th>\n",
       "      <th>Unit Price ($)</th>\n",
       "      <th>Trade Value ($)</th>\n",
       "      <th>Brokerage+GST ($)</th>\n",
       "      <th>GST ($)</th>\n",
       "      <th>Total Value ($)</th>\n",
       "    </tr>\n",
       "  </thead>\n",
       "  <tbody>\n",
       "    <tr>\n",
       "      <th>0</th>\n",
       "      <td>A2M</td>\n",
       "      <td>THE A2 MILK COMPANY FPO NZ (ORDINARY FULLY PAID)</td>\n",
       "      <td>28/9/20</td>\n",
       "      <td>Buy</td>\n",
       "      <td>500</td>\n",
       "      <td>15.4900</td>\n",
       "      <td>7745.00</td>\n",
       "      <td>19.95</td>\n",
       "      <td>1.81</td>\n",
       "      <td>7764.95</td>\n",
       "    </tr>\n",
       "    <tr>\n",
       "      <th>1</th>\n",
       "      <td>A2M</td>\n",
       "      <td>THE A2 MILK COMPANY FPO NZ (ORDINARY FULLY PAID)</td>\n",
       "      <td>30/9/20</td>\n",
       "      <td>Buy</td>\n",
       "      <td>400</td>\n",
       "      <td>14.2450</td>\n",
       "      <td>5698.00</td>\n",
       "      <td>19.95</td>\n",
       "      <td>1.81</td>\n",
       "      <td>5717.95</td>\n",
       "    </tr>\n",
       "    <tr>\n",
       "      <th>2</th>\n",
       "      <td>A2M</td>\n",
       "      <td>THE A2 MILK COMPANY FPO NZ (ORDINARY FULLY PAID)</td>\n",
       "      <td>17/11/20</td>\n",
       "      <td>Sell</td>\n",
       "      <td>-900</td>\n",
       "      <td>14.7412</td>\n",
       "      <td>-13267.04</td>\n",
       "      <td>29.95</td>\n",
       "      <td>2.72</td>\n",
       "      <td>-13237.09</td>\n",
       "    </tr>\n",
       "  </tbody>\n",
       "</table>\n",
       "</div>"
      ],
      "text/plain": [
       "  Code                                           Company      Date  Type  \\\n",
       "0  A2M  THE A2 MILK COMPANY FPO NZ (ORDINARY FULLY PAID)   28/9/20   Buy   \n",
       "1  A2M  THE A2 MILK COMPANY FPO NZ (ORDINARY FULLY PAID)   30/9/20   Buy   \n",
       "2  A2M  THE A2 MILK COMPANY FPO NZ (ORDINARY FULLY PAID)  17/11/20  Sell   \n",
       "\n",
       "   Quantity  Unit Price ($)  Trade Value ($)  Brokerage+GST ($)  GST ($)  \\\n",
       "0       500         15.4900          7745.00              19.95     1.81   \n",
       "1       400         14.2450          5698.00              19.95     1.81   \n",
       "2      -900         14.7412        -13267.04              29.95     2.72   \n",
       "\n",
       "   Total Value ($)  \n",
       "0          7764.95  \n",
       "1          5717.95  \n",
       "2        -13237.09  "
      ]
     },
     "execution_count": 28,
     "metadata": {},
     "output_type": "execute_result"
    }
   ],
   "source": [
    "#set the file path\n",
    "file_path = Path(\"../Resources/A2M.csv\")\n",
    "\n",
    "#Create a Panda dataframe from a csv file\n",
    "A2M = pd.read_csv(file_path)\n",
    "\n",
    "#display the rows\n",
    "A2M.head()"
   ]
  },
  {
   "cell_type": "code",
   "execution_count": 29,
   "id": "a075f176-ccc0-4fc8-8fcb-109c2e37a11b",
   "metadata": {},
   "outputs": [
    {
     "data": {
      "text/plain": [
       "dtype('O')"
      ]
     },
     "execution_count": 29,
     "metadata": {},
     "output_type": "execute_result"
    }
   ],
   "source": [
    "# confirm data type for date\n",
    "A2M['Date'].dtype"
   ]
  },
  {
   "cell_type": "code",
   "execution_count": 30,
   "id": "f5c6c57f-6193-4271-9a17-8b8d18401da3",
   "metadata": {},
   "outputs": [
    {
     "data": {
      "text/plain": [
       "Code                                                         A2MA2MA2M\n",
       "Company              THE A2 MILK COMPANY FPO NZ (ORDINARY FULLY PAI...\n",
       "Date                                            28/9/2030/9/2017/11/20\n",
       "Type                                                        BuyBuySell\n",
       "Quantity                                                             0\n",
       "Unit Price ($)                                                 44.4762\n",
       "Trade Value ($)                                                 175.96\n",
       "Brokerage+GST ($)                                                69.85\n",
       "GST ($)                                                           6.34\n",
       "Total Value ($)                                                 245.81\n",
       "dtype: object"
      ]
     },
     "execution_count": 30,
     "metadata": {},
     "output_type": "execute_result"
    }
   ],
   "source": [
    "#Calculate total quantity and total value\n",
    "A2M.sum (axis = None)"
   ]
  },
  {
   "cell_type": "code",
   "execution_count": 22,
   "id": "0ac9d8d5-e5ba-4e9e-b8fd-4a95c3ba47b2",
   "metadata": {},
   "outputs": [
    {
     "name": "stdout",
     "output_type": "stream",
     "text": [
      "48\n"
     ]
    }
   ],
   "source": [
    "# verify if this share can use Discount Captital Gain method, time between Sell and last buy is less than 12 months.\n",
    "from datetime import date\n",
    "x = date (2020,11,17)\n",
    "y = date (2020,9,30)\n",
    "z = x - y\n",
    "print (z.days)"
   ]
  },
  {
   "cell_type": "code",
   "execution_count": null,
   "id": "8927eb35-cc95-4b72-9b4c-2d7ad37b24e3",
   "metadata": {},
   "outputs": [],
   "source": [
    "# calculate capital gain using Indexation method, given the original buy date is after 21 Sep 1999, no need to go further"
   ]
  },
  {
   "cell_type": "code",
   "execution_count": 26,
   "id": "5d5be1ae-d99a-46cf-aa00-8e7513cfb09d",
   "metadata": {},
   "outputs": [
    {
     "name": "stdout",
     "output_type": "stream",
     "text": [
      "245.8099999999995\n"
     ]
    }
   ],
   "source": [
    "# calculate capital gain using Other method\n",
    "column_name = \"Total Value ($)\"\n",
    "column_sum = A2M[column_name].sum()\n",
    "print (column_sum)"
   ]
  }
 ],
 "metadata": {
  "kernelspec": {
   "display_name": "Python 3 (ipykernel)",
   "language": "python",
   "name": "python3"
  },
  "language_info": {
   "codemirror_mode": {
    "name": "ipython",
    "version": 3
   },
   "file_extension": ".py",
   "mimetype": "text/x-python",
   "name": "python",
   "nbconvert_exporter": "python",
   "pygments_lexer": "ipython3",
   "version": "3.8.8"
  }
 },
 "nbformat": 4,
 "nbformat_minor": 5
}
