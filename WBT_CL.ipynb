{
 "cells": [
  {
   "cell_type": "code",
   "execution_count": 26,
   "id": "18d5ea48-0eb4-4981-9cb0-7b3d64fa73be",
   "metadata": {},
   "outputs": [],
   "source": [
    "#initial imports\n",
    "import pandas as pd\n",
    "from pathlib import Path"
   ]
  },
  {
   "cell_type": "code",
   "execution_count": 27,
   "id": "9a2cc3ba-2670-43fc-9093-3ffe0ad2a1ba",
   "metadata": {
    "tags": []
   },
   "outputs": [
    {
     "data": {
      "text/html": [
       "<div>\n",
       "<style scoped>\n",
       "    .dataframe tbody tr th:only-of-type {\n",
       "        vertical-align: middle;\n",
       "    }\n",
       "\n",
       "    .dataframe tbody tr th {\n",
       "        vertical-align: top;\n",
       "    }\n",
       "\n",
       "    .dataframe thead th {\n",
       "        text-align: right;\n",
       "    }\n",
       "</style>\n",
       "<table border=\"1\" class=\"dataframe\">\n",
       "  <thead>\n",
       "    <tr style=\"text-align: right;\">\n",
       "      <th></th>\n",
       "      <th>Code</th>\n",
       "      <th>Company</th>\n",
       "      <th>Date</th>\n",
       "      <th>Type</th>\n",
       "      <th>Quantity</th>\n",
       "      <th>Unit Price ($)</th>\n",
       "      <th>Trade Value ($)</th>\n",
       "      <th>Brokerage+GST ($)</th>\n",
       "      <th>GST ($)</th>\n",
       "      <th>Total Value ($)</th>\n",
       "    </tr>\n",
       "  </thead>\n",
       "  <tbody>\n",
       "    <tr>\n",
       "      <th>0</th>\n",
       "      <td>WBT</td>\n",
       "      <td>WEEBIT NANO LTD FPO (ORDINARY FULLY PAID)</td>\n",
       "      <td>19/1/21</td>\n",
       "      <td>Buy</td>\n",
       "      <td>1000</td>\n",
       "      <td>3.65</td>\n",
       "      <td>3650</td>\n",
       "      <td>19.95</td>\n",
       "      <td>1.81</td>\n",
       "      <td>3669.95</td>\n",
       "    </tr>\n",
       "    <tr>\n",
       "      <th>1</th>\n",
       "      <td>WBT</td>\n",
       "      <td>WEEBIT NANO LTD FPO (ORDINARY FULLY PAID)</td>\n",
       "      <td>21/1/21</td>\n",
       "      <td>Sell</td>\n",
       "      <td>-1000</td>\n",
       "      <td>4.11</td>\n",
       "      <td>-4110</td>\n",
       "      <td>19.95</td>\n",
       "      <td>1.81</td>\n",
       "      <td>-4090.05</td>\n",
       "    </tr>\n",
       "  </tbody>\n",
       "</table>\n",
       "</div>"
      ],
      "text/plain": [
       "  Code                                    Company     Date  Type  Quantity  \\\n",
       "0  WBT  WEEBIT NANO LTD FPO (ORDINARY FULLY PAID)  19/1/21   Buy      1000   \n",
       "1  WBT  WEEBIT NANO LTD FPO (ORDINARY FULLY PAID)  21/1/21  Sell     -1000   \n",
       "\n",
       "   Unit Price ($)  Trade Value ($)  Brokerage+GST ($)  GST ($)  \\\n",
       "0            3.65             3650              19.95     1.81   \n",
       "1            4.11            -4110              19.95     1.81   \n",
       "\n",
       "   Total Value ($)  \n",
       "0          3669.95  \n",
       "1         -4090.05  "
      ]
     },
     "execution_count": 27,
     "metadata": {},
     "output_type": "execute_result"
    }
   ],
   "source": [
    "#set the file path\n",
    "file_path = Path(\"../Resources/WBT_CL.csv\")\n",
    "\n",
    "#Create a Panda dataframe from a csv file\n",
    "WBT_CL = pd.read_csv(file_path)\n",
    "\n",
    "#display the rows\n",
    "WBT_CL.head()"
   ]
  },
  {
   "cell_type": "code",
   "execution_count": 24,
   "id": "4109c169-cdef-4203-9e2b-2a59bee31069",
   "metadata": {},
   "outputs": [
    {
     "data": {
      "text/plain": [
       "Code                                                            WBTWBT\n",
       "Company              WEEBIT NANO LTD FPO (ORDINARY FULLY PAID)WEEBI...\n",
       "Date                                                    19/1/2121/1/21\n",
       "Type                                                           BuySell\n",
       "Quantity                                                             0\n",
       "Unit Price ($)                                                    7.76\n",
       "Trade Value ($)                                                   -460\n",
       "Brokerage+GST ($)                                                 39.9\n",
       "GST ($)                                                           3.62\n",
       "Total Value ($)                                                 -420.1\n",
       "dtype: object"
      ]
     },
     "execution_count": 24,
     "metadata": {},
     "output_type": "execute_result"
    }
   ],
   "source": [
    "#Calculate total quantity and total value\n",
    "WBT_CL.sum (axis = None)"
   ]
  },
  {
   "cell_type": "code",
   "execution_count": 28,
   "id": "36423f3e-0058-496c-8502-6778c74d16db",
   "metadata": {},
   "outputs": [
    {
     "name": "stdout",
     "output_type": "stream",
     "text": [
      "-420.10000000000036\n"
     ]
    }
   ],
   "source": [
    "#given Total Value ($) is less than $0, a capital loss incurred.\n",
    "column_name = \"Total Value ($)\"\n",
    "column_sum = WBT_CL[column_name].sum()\n",
    "print (column_sum)"
   ]
  },
  {
   "cell_type": "code",
   "execution_count": null,
   "id": "28209a57-5775-4565-8a44-22f64620d0a8",
   "metadata": {},
   "outputs": [],
   "source": []
  }
 ],
 "metadata": {
  "kernelspec": {
   "display_name": "Python 3 (ipykernel)",
   "language": "python",
   "name": "python3"
  },
  "language_info": {
   "codemirror_mode": {
    "name": "ipython",
    "version": 3
   },
   "file_extension": ".py",
   "mimetype": "text/x-python",
   "name": "python",
   "nbconvert_exporter": "python",
   "pygments_lexer": "ipython3",
   "version": "3.8.8"
  }
 },
 "nbformat": 4,
 "nbformat_minor": 5
}
